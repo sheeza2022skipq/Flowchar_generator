{
 "cells": [
  {
   "cell_type": "code",
   "execution_count": 1,
   "id": "70975df8",
   "metadata": {},
   "outputs": [],
   "source": [
    "import cv2\n",
    "import numpy as np\n",
    "from matplotlib import pyplot as plt\n",
    "from skimage import util \n",
    "from utils import get_four_points\n",
    "from skimage import morphology\n",
    "from scipy.ndimage.morphology import binary_fill_holes\n",
    "from skimage.measure import regionprops\n",
    "from scipy.ndimage import label"
   ]
  },
  {
   "cell_type": "code",
   "execution_count": 2,
   "id": "f8acc020",
   "metadata": {},
   "outputs": [
    {
     "name": "stdout",
     "output_type": "stream",
     "text": [
      "width:  720\n",
      "height:  1600\n",
      "width:  720\n",
      "height:  800\n"
     ]
    }
   ],
   "source": [
    "# Read image\n",
    "\n",
    "img = cv2.imread('graph.jpeg')\n",
    "height, width = img.shape[:2]\n",
    "print(\"width: \", width)\n",
    "print(\"height: \", height)\n",
    "\n",
    "img = cv2.resize(img, (720,800))\n",
    "height, width = img.shape[:2]\n",
    "print(\"width: \", width)\n",
    "print(\"height: \", height)\n"
   ]
  },
  {
   "cell_type": "code",
   "execution_count": 3,
   "id": "f0e5c6c6",
   "metadata": {},
   "outputs": [
    {
     "data": {
      "text/plain": [
       "-1"
      ]
     },
     "execution_count": 3,
     "metadata": {},
     "output_type": "execute_result"
    }
   ],
   "source": [
    "# Display Image\n",
    "\n",
    "cv2.imshow('image',img)\n",
    "cv2.waitKey(0)\n"
   ]
  },
  {
   "cell_type": "code",
   "execution_count": 4,
   "id": "1620294b",
   "metadata": {},
   "outputs": [
    {
     "name": "stdout",
     "output_type": "stream",
     "text": [
      "[[  0.   0.]\n",
      " [720.   0.]\n",
      " [  0. 800.]\n",
      " [720. 800.]]\n"
     ]
    }
   ],
   "source": [
    "# Defining points\n",
    "src_points = get_four_points(img)\n",
    "dst_points = np.float32([[0, 0], [width, 0], [0, height], [width, height]]) \n",
    "print(dst_points)"
   ]
  },
  {
   "cell_type": "code",
   "execution_count": 5,
   "id": "6cb4da44",
   "metadata": {},
   "outputs": [],
   "source": [
    "# Find homography using least square method (by default)\n",
    "M_ls, _ = cv2.findHomography(src_points, dst_points)\n",
    "\n",
    "dest_ls = cv2.warpPerspective(img, M_ls, (width, height))"
   ]
  },
  {
   "cell_type": "code",
   "execution_count": 6,
   "id": "45376922",
   "metadata": {},
   "outputs": [],
   "source": [
    "# Drawing source points on original image\n",
    "\n",
    "for i in range(0, 4):\n",
    "    cv2.circle(img, (int(src_points[i][0]), int(src_points[i][1])), 10, (0, 255, 0), cv2.FILLED)"
   ]
  },
  {
   "cell_type": "code",
   "execution_count": 7,
   "id": "ba03af42",
   "metadata": {},
   "outputs": [
    {
     "data": {
      "text/plain": [
       "-1"
      ]
     },
     "execution_count": 7,
     "metadata": {},
     "output_type": "execute_result"
    }
   ],
   "source": [
    "# Display Image\n",
    "\n",
    "graph_img = dest_ls\n",
    "Combined_img = cv2.hconcat([img, graph_img]) \n",
    "cv2.imwrite('Cropped_graph.png', graph_img)\n",
    "cv2.imshow('Homography image',Combined_img)\n",
    "cv2.waitKey(0)\n",
    "\n"
   ]
  },
  {
   "cell_type": "code",
   "execution_count": 8,
   "id": "ee55441d",
   "metadata": {},
   "outputs": [
    {
     "data": {
      "text/plain": [
       "-1"
      ]
     },
     "execution_count": 8,
     "metadata": {},
     "output_type": "execute_result"
    }
   ],
   "source": [
    "\n",
    "#convert into grayscale\n",
    "gray_img = cv2.cvtColor(graph_img, cv2.COLOR_BGR2GRAY)\n",
    "\n",
    "cv2.imshow('Grayscale Homography image',gray_img)\n",
    "cv2.imwrite('Gray_Cropped_graph.png', gray_img)\n",
    "cv2.waitKey(0)\n",
    "\n",
    "\n",
    "thresh, binary_image = cv2.threshold(gray_img.astype(np.uint8), 0, 255,\n",
    "                                         cv2.THRESH_BINARY_INV+cv2.THRESH_OTSU)\n",
    "\n",
    "cv2.imshow('Contour on Homography image',binary_image)\n",
    "cv2.imwrite('Binary_Cropped_graph.png', binary_image)\n",
    "cv2.waitKey(0)"
   ]
  },
  {
   "cell_type": "code",
   "execution_count": 9,
   "id": "68998da9",
   "metadata": {},
   "outputs": [],
   "source": [
    "# Apply Guassian blur to smooth the image\n",
    "img_smooth = cv2.GaussianBlur(binary_image, (9, 9), sigmaX = 0, sigmaY = 0) \n",
    "img_smooth = cv2.fastNlMeansDenoising(img_smooth)"
   ]
  },
  {
   "cell_type": "code",
   "execution_count": 10,
   "id": "c01d80e6",
   "metadata": {},
   "outputs": [
    {
     "data": {
      "text/plain": [
       "-1"
      ]
     },
     "execution_count": 10,
     "metadata": {},
     "output_type": "execute_result"
    }
   ],
   "source": [
    "\n",
    "find_con_gray = img_smooth\n",
    "\n",
    "cnts = cv2.findContours(find_con_gray, cv2.RETR_EXTERNAL, cv2.CHAIN_APPROX_SIMPLE)\n",
    "cnts = cnts[0] if len(cnts) == 2 else cnts[1]\n",
    "\n",
    "for c in cnts:\n",
    "    cv2.drawContours(find_con_gray,[c], 0, (255,255,255), -1)\n",
    "\n",
    "kernel = cv2.getStructuringElement(cv2.MORPH_RECT, (18,18))\n",
    "opening = cv2.morphologyEx(find_con_gray, cv2.MORPH_OPEN, kernel, iterations=2)\n",
    "\n",
    "cv2.imshow('find_con_gray', find_con_gray)\n",
    "cv2.imwrite('Fill_shape_Binary_Cropped_graph.png', find_con_gray)\n",
    "cv2.waitKey(0)\n",
    "cv2.imshow('opening', opening)\n",
    "cv2.imwrite('opening.png', opening)\n",
    "cv2.waitKey(0)\n",
    "\n",
    "kernel = np.ones((3,3), np.uint8)\n",
    "Fill_shape_erosion = cv2.erode(find_con_gray, kernel, iterations=2)\n",
    "cv2.imshow('erosion_Binary_Cropped_graph', Fill_shape_erosion)\n",
    "cv2.imwrite('Fill_shape_erosion.png', Fill_shape_erosion)\n",
    "cv2.waitKey(0)\n",
    "\n",
    "\n",
    "kernel = np.ones((5,5), np.uint8)\n",
    "Only_shape_dilate = cv2.dilate(opening, kernel, iterations=2)\n",
    "cv2.imshow('dilation_Binary_Cropped_graph', Only_shape_dilate)\n",
    "cv2.imwrite('Only_shape_dilate.png', Only_shape_dilate)\n",
    "cv2.waitKey(0)\n",
    "\n",
    "\n",
    "arrow =  Fill_shape_erosion - Only_shape_dilate \n",
    "cv2.imshow('Only_Arrow_Binary_Cropped_graph', arrow)\n",
    "cv2.imwrite('arrow.png', arrow)\n",
    "cv2.waitKey(0)"
   ]
  },
  {
   "cell_type": "code",
   "execution_count": 11,
   "id": "9239799f",
   "metadata": {},
   "outputs": [
    {
     "data": {
      "text/plain": [
       "-1"
      ]
     },
     "execution_count": 11,
     "metadata": {},
     "output_type": "execute_result"
    }
   ],
   "source": [
    "blur_arrow = cv2.GaussianBlur(arrow,(11,11),0)\n",
    "blur_arrow_result = cv2.threshold(blur_arrow, 100, 255, cv2.THRESH_BINARY)[1]\n",
    "cv2.imshow(\"Result\", blur_arrow_result)\n",
    "cv2.waitKey(0)\n"
   ]
  },
  {
   "cell_type": "code",
   "execution_count": 12,
   "id": "b8423022",
   "metadata": {},
   "outputs": [
    {
     "data": {
      "text/plain": [
       "-1"
      ]
     },
     "execution_count": 12,
     "metadata": {},
     "output_type": "execute_result"
    }
   ],
   "source": [
    "kernal = np.ones((3,3),np.uint8)\n",
    "close_arrows = cv2.morphologyEx( blur_arrow_result,cv2.MORPH_OPEN,kernel)\n",
    "\n",
    "cv2.imshow('gray', close_arrows)\n",
    "cv2.waitKey(0)\n"
   ]
  },
  {
   "cell_type": "code",
   "execution_count": 13,
   "id": "80e1adaf",
   "metadata": {},
   "outputs": [
    {
     "data": {
      "text/plain": [
       "-1"
      ]
     },
     "execution_count": 13,
     "metadata": {},
     "output_type": "execute_result"
    }
   ],
   "source": [
    "edges = cv2.Canny(image =Only_shape_dilate, threshold1 = 100, threshold2 = 100)\n",
    "cv2.imshow('Edges of Dilation Inverted Binarize image',edges)\n",
    "cv2.waitKey(0)"
   ]
  },
  {
   "cell_type": "code",
   "execution_count": 14,
   "id": "c4384759",
   "metadata": {},
   "outputs": [],
   "source": [
    "\n",
    "# Apply Hough transform to greyscale image\n",
    "Fill_shape_erosion_blur = cv2.medianBlur(Fill_shape_erosion,3)\n",
    "\n",
    "\n",
    "circles = cv2.HoughCircles(Fill_shape_erosion_blur, cv2.HOUGH_GRADIENT,1,25,\n",
    "                            param1=30,param2=30,minRadius=0,maxRadius=0)"
   ]
  },
  {
   "cell_type": "code",
   "execution_count": 15,
   "id": "b7692076",
   "metadata": {},
   "outputs": [],
   "source": [
    "circle_img = np.zeros((img.shape[:2]), dtype = 'uint8')"
   ]
  },
  {
   "cell_type": "code",
   "execution_count": 16,
   "id": "11323943",
   "metadata": {},
   "outputs": [],
   "source": [
    "# Draw the circles\n",
    "if circles is not None:\n",
    "    circles= np.uint16(np.around(circles))\n",
    "    for i in circles[0, :]:\n",
    "    # draw the outer circle\n",
    "    # cv2.circle(image, center_coordinates, radius, color, thickness)\n",
    "        cv2.circle(circle_img, (i[0], i[1]), i[2], (255), 2)"
   ]
  },
  {
   "cell_type": "code",
   "execution_count": 17,
   "id": "3b12e646",
   "metadata": {},
   "outputs": [
    {
     "data": {
      "text/plain": [
       "-1"
      ]
     },
     "execution_count": 17,
     "metadata": {},
     "output_type": "execute_result"
    }
   ],
   "source": [
    "cv2.imshow('Edges of Dilation Inverted Binarize image',circle_img)\n",
    "cv2.waitKey(0)"
   ]
  },
  {
   "cell_type": "code",
   "execution_count": null,
   "id": "d5df6504",
   "metadata": {},
   "outputs": [],
   "source": []
  },
  {
   "cell_type": "code",
   "execution_count": null,
   "id": "a42d5673",
   "metadata": {},
   "outputs": [],
   "source": []
  },
  {
   "cell_type": "code",
   "execution_count": null,
   "id": "fa9cc5cf",
   "metadata": {},
   "outputs": [],
   "source": []
  },
  {
   "cell_type": "code",
   "execution_count": null,
   "id": "202644c6",
   "metadata": {},
   "outputs": [],
   "source": []
  },
  {
   "cell_type": "code",
   "execution_count": null,
   "id": "371f825a",
   "metadata": {},
   "outputs": [],
   "source": []
  },
  {
   "cell_type": "code",
   "execution_count": null,
   "id": "8b66ad89",
   "metadata": {
    "scrolled": true
   },
   "outputs": [],
   "source": []
  },
  {
   "cell_type": "code",
   "execution_count": null,
   "id": "bd80077a",
   "metadata": {},
   "outputs": [],
   "source": []
  },
  {
   "cell_type": "code",
   "execution_count": null,
   "id": "73f14ae6",
   "metadata": {},
   "outputs": [],
   "source": []
  },
  {
   "cell_type": "code",
   "execution_count": null,
   "id": "cf0ba73d",
   "metadata": {},
   "outputs": [],
   "source": []
  },
  {
   "cell_type": "code",
   "execution_count": null,
   "id": "88cf6670",
   "metadata": {},
   "outputs": [],
   "source": []
  },
  {
   "cell_type": "code",
   "execution_count": null,
   "id": "cebd981c",
   "metadata": {},
   "outputs": [],
   "source": []
  },
  {
   "cell_type": "code",
   "execution_count": null,
   "id": "8ae94965",
   "metadata": {},
   "outputs": [],
   "source": []
  },
  {
   "cell_type": "code",
   "execution_count": null,
   "id": "d2976122",
   "metadata": {},
   "outputs": [],
   "source": []
  },
  {
   "cell_type": "code",
   "execution_count": null,
   "id": "0ff93b16",
   "metadata": {},
   "outputs": [],
   "source": []
  },
  {
   "cell_type": "code",
   "execution_count": null,
   "id": "44c53ff4",
   "metadata": {},
   "outputs": [],
   "source": [
    "# Canny Edge Detection\n",
    "edges = cv2.Canny(image = coins_dilation, threshold1 = 100, threshold2 = 100)\n",
    "cv2.imshow('Edges of Dilation Inverted Binarize image',edges)\n",
    "cv2.waitKey(0)\n",
    "cv2.imwrite(\"Edges of Dilation Inverted Binarize image.jpg\", edges)"
   ]
  },
  {
   "cell_type": "code",
   "execution_count": null,
   "id": "2fac7a5f",
   "metadata": {},
   "outputs": [],
   "source": []
  },
  {
   "cell_type": "code",
   "execution_count": null,
   "id": "aa4c6058",
   "metadata": {},
   "outputs": [],
   "source": []
  },
  {
   "cell_type": "code",
   "execution_count": null,
   "id": "4f6103ad",
   "metadata": {},
   "outputs": [],
   "source": []
  },
  {
   "cell_type": "code",
   "execution_count": null,
   "id": "8cb9f656",
   "metadata": {},
   "outputs": [],
   "source": []
  }
 ],
 "metadata": {
  "kernelspec": {
   "display_name": "Python 3 (ipykernel)",
   "language": "python",
   "name": "python3"
  },
  "language_info": {
   "codemirror_mode": {
    "name": "ipython",
    "version": 3
   },
   "file_extension": ".py",
   "mimetype": "text/x-python",
   "name": "python",
   "nbconvert_exporter": "python",
   "pygments_lexer": "ipython3",
   "version": "3.9.7"
  }
 },
 "nbformat": 4,
 "nbformat_minor": 5
}
