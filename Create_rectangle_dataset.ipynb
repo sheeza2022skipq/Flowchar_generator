{
 "cells": [
  {
   "cell_type": "code",
   "execution_count": null,
   "id": "562c4f2a",
   "metadata": {},
   "outputs": [],
   "source": []
  },
  {
   "cell_type": "code",
   "execution_count": 1,
   "id": "11eaf797",
   "metadata": {},
   "outputs": [],
   "source": [
    "from PIL import Image, ImageDraw\n",
    "\n",
    "image = Image.new('RGB', (1000, 1000), 'white')  # could also open an existing image here to draw shapes over it\n",
    "\n",
    "import random\n",
    "\n",
    "draw = ImageDraw.Draw(image)\n",
    "for i in range(200):\n",
    "    r = random.randint(0,255)\n",
    "    g = random.randint(0,255)\n",
    "    b = random.randint(0,255)\n",
    "    rgb = [r,g,b]\n",
    "    image = Image.new('RGB', (1000, 1000), 'white') \n",
    "    draw = ImageDraw.Draw(image )\n",
    "    draw.rectangle((7*i, 20, 30, 9*i), fill=random.randint(0,255) , outline=random.randint(0,255))  # can vary this bit to draw different shapes in different positions\n",
    "    image.save( str(i) + \"v_rectangle.png\")\n",
    "    \n",
    "    "
   ]
  },
  {
   "cell_type": "code",
   "execution_count": null,
   "id": "aa3a5796",
   "metadata": {},
   "outputs": [],
   "source": []
  }
 ],
 "metadata": {
  "kernelspec": {
   "display_name": "Python 3 (ipykernel)",
   "language": "python",
   "name": "python3"
  },
  "language_info": {
   "codemirror_mode": {
    "name": "ipython",
    "version": 3
   },
   "file_extension": ".py",
   "mimetype": "text/x-python",
   "name": "python",
   "nbconvert_exporter": "python",
   "pygments_lexer": "ipython3",
   "version": "3.9.7"
  }
 },
 "nbformat": 4,
 "nbformat_minor": 5
}
